{
  "metadata": {
    "kernelspec": {
      "name": "python",
      "display_name": "Python (Pyodide)",
      "language": "python"
    },
    "language_info": {
      "name": ""
    }
  },
  "nbformat_minor": 4,
  "nbformat": 4,
  "cells": [
    {
      "cell_type": "markdown",
      "source": " ### Data Science Tools and Ecosystem",
      "metadata": {}
    },
    {
      "cell_type": "markdown",
      "source": "In this notebook, Data science Tools and summarized.",
      "metadata": {}
    },
    {
      "cell_type": "markdown",
      "source": " The names of some popular programming languages used by data scientists:\n\n1. Python\n2. R\n3. SQL\n4. Julia",
      "metadata": {}
    },
    {
      "cell_type": "markdown",
      "source": " The names of commonly used data science libraries:\n\n1. NumPy\n2. pandas\n3. matplotlib\n4. Seaborn\n5. scikit-learn\n6. TensorFlow\n7. PyTorch\n8. SciPy\n9. StatsModels\n10. NLTK\n11. Keras",
      "metadata": {}
    },
    {
      "cell_type": "markdown",
      "source": "| Tool              | Description                                     |\n|-------------------|-------------------------------------------------|\n| Python            | General-purpose programming language             |\n| R                 | Statistical computing and graphics               |\n| SQL               | Database querying language                       |\n| TensorFlow        | Deep learning framework                          |\n| scikit-learn      | Machine learning library                         |\n",
      "metadata": {}
    },
    {
      "cell_type": "markdown",
      "source": "\n### Arithmetic expression examples in Python",
      "metadata": {}
    },
    {
      "cell_type": "code",
      "source": "#multiply and add numbers\n(3*6)+1\n19",
      "metadata": {
        "trusted": true
      },
      "outputs": [],
      "execution_count": null
    },
    {
      "cell_type": "code",
      "source": "#Convert minutes to hours\n120/60\n2.0",
      "metadata": {
        "trusted": true
      },
      "outputs": [],
      "execution_count": null
    },
    {
      "cell_type": "markdown",
      "source": "__Objective__\n* List the popular languages for data science\n* List the popular libraries for data science\n* List the well know data science Tools\n* How to provide comment in the cell",
      "metadata": {}
    },
    {
      "cell_type": "markdown",
      "source": "## Author Names\n1. Aije Egwaikhide, Senior Data Scientist IBM\n2. Svetlana Levitan, Senior Developer Advocate with IBM Center for Open Data and AI Technologies\n3. Romeo Kienzler, Chief Data Scientist, Course Lead\n\n",
      "metadata": {}
    },
    {
      "cell_type": "code",
      "source": "",
      "metadata": {
        "trusted": true
      },
      "outputs": [],
      "execution_count": null
    }
  ]
}